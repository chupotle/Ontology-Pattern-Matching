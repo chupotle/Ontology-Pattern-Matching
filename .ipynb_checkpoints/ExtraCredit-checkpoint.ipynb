{
 "cells": [
  {
   "cell_type": "code",
   "execution_count": 1,
   "metadata": {},
   "outputs": [],
   "source": [
    "from ontology.ontology import load\n",
    "import json\n",
    "from collections import defaultdict as ddict\n",
    "ont = load()"
   ]
  },
  {
   "cell_type": "code",
   "execution_count": 2,
   "metadata": {},
   "outputs": [
    {
     "name": "stdout",
     "output_type": "stream",
     "text": [
      "Pattern Graph Filepath:examples/patternEC.json\n",
      "Question Graph Filepath:examples/targetEC.json\n"
     ]
    }
   ],
   "source": [
    "pattern_graph_file= input(\"Pattern Graph Filepath:\")\n",
    "question_graph_file = input(\"Question Graph Filepath:\")"
   ]
  },
  {
   "cell_type": "markdown",
   "metadata": {},
   "source": [
    "(assuming the question graph is a \"w-question\" type graph)\n",
    "\n",
    "\n",
    "to load pattern graphs, enter the filepath below i.e.:\n",
    "\n",
    "examples/patternEC.json\n",
    "\n",
    "examples/targetEC.json"
   ]
  },
  {
   "cell_type": "code",
   "execution_count": 57,
   "metadata": {},
   "outputs": [],
   "source": [
    "def is_match(target_graph, pattern_graph):\n",
    "    list_roles = target_graph[target_graph[\"root\"]][\"roles\"]\n",
    "    real_root = target_graph[\"root\"]\n",
    "    if \"FOCUS\" in list_roles.keys():\n",
    "        real_root = target_graph[list_roles[\"FOCUS\"].replace(\"#\", \"\")]\n",
    "    while real_root[\"word\"] is None:\n",
    "        for val in real_root[\"roles\"].values():\n",
    "            if \"#\" in val: \n",
    "                real_root = target_graph[val.replace(\"#\", \"\")]\n",
    "                break\n",
    "    target_word = real_root[\"type\"]\n",
    "    return compare_graphs(target_word, pattern_graph)\n",
    "    \n",
    "def geq_subsumption(word_a, word_b):\n",
    "    for onto in ont[\"w::\"+word_b]:\n",
    "        if(ont[word_a] > onto or ont[word_a] == onto):\n",
    "            return True\n",
    "    if(word_a == word_b):\n",
    "        return True\n",
    "    return ont[word_a] > word_b\n",
    "    \n",
    "def compare_graphs(target_word, pattern_graph):\n",
    "    match = False\n",
    "    for key in pattern_graph.keys():\n",
    "        if(pattern_graph[key] == target_word):\n",
    "            match = True\n",
    "        if(match == True):\n",
    "            if pattern_graph[key] is not dict:\n",
    "                if json.dumps(pattern_graph[key]).find(target_word) == -1:\n",
    "\n",
    "                    print(pattern_graph[key]['root'])\n",
    "                    return pattern_graph[key]\n",
    "        if(isinstance(pattern_graph[key],dict)):\n",
    "            temp_boo = compare_graphs(target_word, pattern_graph[key])\n",
    "            if temp_boo == False:\n",
    "                return False\n",
    "    return True"
   ]
  },
  {
   "cell_type": "code",
   "execution_count": 58,
   "metadata": {},
   "outputs": [
    {
     "name": "stdout",
     "output_type": "stream",
     "text": [
      "examples/patternEC.json :\n",
      "examples/targetEC.json: PURPLE\n"
     ]
    }
   ],
   "source": [
    "pattern = json.load(open(pattern_graph_file))\n",
    "print(pattern_graph_file, \":\")\n",
    "for targetJson in question_graph_file.split():\n",
    "    target = json.load(open(targetJson))[0]\n",
    "    print(targetJson, end=': ')\n",
    "    is_match(target, pattern)"
   ]
  },
  {
   "cell_type": "markdown",
   "metadata": {},
   "source": [
    "just a quick and dirty attempt at the extra credit. returns the supposed answer to the query."
   ]
  }
 ],
 "metadata": {
  "kernelspec": {
   "display_name": "Python 3",
   "language": "python",
   "name": "python3"
  },
  "language_info": {
   "codemirror_mode": {
    "name": "ipython",
    "version": 3
   },
   "file_extension": ".py",
   "mimetype": "text/x-python",
   "name": "python",
   "nbconvert_exporter": "python",
   "pygments_lexer": "ipython3",
   "version": "3.7.1"
  }
 },
 "nbformat": 4,
 "nbformat_minor": 2
}

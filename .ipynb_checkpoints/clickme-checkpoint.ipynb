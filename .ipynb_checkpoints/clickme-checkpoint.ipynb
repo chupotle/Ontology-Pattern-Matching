{
 "cells": [
  {
   "cell_type": "code",
   "execution_count": 3,
   "metadata": {},
   "outputs": [],
   "source": [
    "from ontology.ontology import load\n",
    "import json\n",
    "from collections import defaultdict as ddict\n",
    "ont = load()"
   ]
  },
  {
   "cell_type": "markdown",
   "metadata": {},
   "source": [
    "to load pattern graphs, enter the filepath below i.e.:\n",
    "\n",
    "examples/pattern1.json\n",
    "\n",
    "examples/target1a.json examples/target1b.json examples/target1c.json examples/target1d.json examples/target1e.json\n",
    "\n",
    "examples/pattern2.json\n",
    "\n",
    "examples/target2a.json examples/target2b.json examples/target2c.json examples/target2d.json examples/target2e.json\n",
    "\n",
    "examples/pattern3.json\n",
    "\n",
    "examples/target3a.json examples/target3b.json examples/target3c.json examples/target3d.json examples/target3e.json"
   ]
  },
  {
   "cell_type": "code",
   "execution_count": 1,
   "metadata": {},
   "outputs": [
    {
     "name": "stdout",
     "output_type": "stream",
     "text": [
      "Pattern Graph Filepath:examples/pattern2.json\n",
      "Target Graph Filepath:examples/target2a.json examples/target2b.json examples/target2c.json examples/target2d.json examples/target2e.json\n"
     ]
    }
   ],
   "source": [
    "pattern_graph_file= input(\"Pattern Graph Filepath:\")\n",
    "target_graph_file = input(\"Target Graph Filepath:\")"
   ]
  },
  {
   "cell_type": "code",
   "execution_count": 2,
   "metadata": {},
   "outputs": [],
   "source": [
    "def is_match(target_graph, pattern_graph):\n",
    "    list_roles = target_graph[target_graph[\"root\"]][\"roles\"]\n",
    "    real_root = target_graph[\"root\"]\n",
    "    if \"CONTENT\" in list_roles.keys():\n",
    "        real_root = list_roles[\"CONTENT\"]\n",
    "    return compare_graphs(target_graph, real_root, pattern_graph)\n",
    "    \n",
    "def geq_subsumption(word_a, word_b):\n",
    "    for onto in ont[\"w::\"+word_b]:\n",
    "        if(ont[word_a] > onto or ont[word_a] == onto):\n",
    "            return True\n",
    "    if(word_a == word_b):\n",
    "        return True\n",
    "    return ont[word_a] > word_b\n",
    "    \n",
    "def compare_graphs(target_graph, word_id, pattern_graph):    \n",
    "    target_word_id = word_id.replace(\"#\", \"\")\n",
    "    current = target_graph[target_word_id]\n",
    "    for key in pattern_graph.keys():\n",
    "        if(key == \"root\"):\n",
    "            if geq_subsumption(pattern_graph[\"root\"], current[\"type\"]) == False:\n",
    "                return False\n",
    "            \n",
    "        if(isinstance(pattern_graph[key],dict)):\n",
    "            if key.upper() not in current[\"roles\"].keys():\n",
    "                return False\n",
    "            temp_boo = compare_graphs(target_graph, current[\"roles\"][key.upper()], pattern_graph[key])\n",
    "            if temp_boo == False:\n",
    "                return False\n",
    "    return True\n",
    "         "
   ]
  },
  {
   "cell_type": "code",
   "execution_count": 4,
   "metadata": {},
   "outputs": [
    {
     "name": "stdout",
     "output_type": "stream",
     "text": [
      "examples/pattern2.json :\n",
      "examples/target2a.json: True\n",
      "examples/target2b.json: False\n",
      "examples/target2c.json: False\n",
      "examples/target2d.json: True\n",
      "examples/target2e.json: True\n"
     ]
    }
   ],
   "source": [
    "pattern = json.load(open(pattern_graph_file))\n",
    "print(pattern_graph_file, \":\")\n",
    "for targetJson in target_graph_file.split():\n",
    "    target = json.load(open(targetJson))[0]\n",
    "    print(targetJson, end=': ')\n",
    "    print(is_match(target, pattern))"
   ]
  },
  {
   "cell_type": "markdown",
   "metadata": {},
   "source": [
    "How could you use patterns to extract information? Describe the procedure.\n",
    "\n",
    "    Given a set of patterns, one could probably test targets while accepting targets that dont match up 100%. You could then return the pattern it kinda matches to and gather information from that.\n",
    "\n",
    "    i.e. pattern - the dog is black\n",
    "\n",
    "    target - what color is the dog?\n",
    "\n",
    "    maybe the two are able to match\n",
    "\n",
    "What kind of facts can you extract?\n",
    "\n",
    "    As of now, i'm able to extract whether a given target graph matches a pattern graph\n",
    "    \n",
    "What kind of questions can you answer?\n",
    "\n",
    "    See above\n",
    "    \n",
    "What modifications would you have to make in order to answer simple questions?\n",
    "\n",
    "    Initial thoughts - you could probably store the known patterns as a knowledge base of sorts, then you could convert the questions into statement. You could then try to match with the knowledge base and fill in the blanks to answer questions."
   ]
  }
 ],
 "metadata": {
  "kernelspec": {
   "display_name": "Python 3",
   "language": "python",
   "name": "python3"
  },
  "language_info": {
   "codemirror_mode": {
    "name": "ipython",
    "version": 3
   },
   "file_extension": ".py",
   "mimetype": "text/x-python",
   "name": "python",
   "nbconvert_exporter": "python",
   "pygments_lexer": "ipython3",
   "version": "3.7.1"
  }
 },
 "nbformat": 4,
 "nbformat_minor": 2
}
